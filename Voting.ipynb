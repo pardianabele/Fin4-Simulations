{
 "cells": [
  {
   "cell_type": "code",
   "execution_count": 1,
   "metadata": {},
   "outputs": [],
   "source": [
    "%matplotlib inline"
   ]
  },
  {
   "cell_type": "code",
   "execution_count": 2,
   "metadata": {},
   "outputs": [],
   "source": [
    "import random\n",
    "import numpy as np\n",
    "import pandas as pd\n",
    "import matplotlib.pylab as pl\n",
    "from cadCAD.configuration import Configuration\n",
    "from cadCAD.engine import ExecutionMode, ExecutionContext, Executor"
   ]
  },
  {
   "cell_type": "code",
   "execution_count": 3,
   "metadata": {},
   "outputs": [],
   "source": [
    "# general setup\n",
    "time_steps = 50\n",
    "\n",
    "#population settings\n",
    "community = False\n",
    "community_size_1 = 35\n",
    "community_size_2 = 0\n",
    "between_com = 0\n",
    "\n",
    "#TCR settings\n",
    "TCR = True\n",
    "reputation_threshold_for_voting = 500\n",
    "voting_rate = False\n",
    "voting_rate_value = 20 #%\n",
    "\n",
    "#reputation allocation\n",
    "rep_token_claim = True\n",
    "rep_token_proof = True\n",
    "rep_PAT_creator = False\n",
    "#rep_PAT_owner = True\n",
    "\n",
    "#random OPATs\n",
    "random_OPATs = True\n",
    "fixed_OPATs = False\n",
    "fixed_OPAT_sugestion = False"
   ]
  },
  {
   "cell_type": "code",
   "execution_count": 4,
   "metadata": {},
   "outputs": [],
   "source": [
    "simulation_parameters = {\n",
    "    'T': range(time_steps),\n",
    "    'N': 1,\n",
    "    'M': {}\n",
    "}"
   ]
  },
  {
   "cell_type": "code",
   "execution_count": 5,
   "metadata": {},
   "outputs": [],
   "source": [
    "def get_update_name(variable_name):\n",
    "    return \"add_\" + variable_name"
   ]
  },
  {
   "cell_type": "code",
   "execution_count": 6,
   "metadata": {},
   "outputs": [],
   "source": [
    "#general constants\n",
    "TIMESTEP = 'timestep' # access to current timestep with s[TIMESTEP]\n",
    "USERS = \"users\"\n",
    "PATS = \"pats\"\n",
    "OPATS = \"opats\"\n",
    "WALLET_GAINS = \"wallet_gains\"\n",
    "ADD_USERS = get_update_name(USERS)\n",
    "ADD_PATS = get_update_name(PATS)\n",
    "\n",
    "proposed_PAT_id = [5, 10, 15, 20, 25, 30, 35, 40]\n"
   ]
  },
  {
   "cell_type": "code",
   "execution_count": 7,
   "metadata": {},
   "outputs": [],
   "source": [
    "initial_conditions = {\n",
    "    USERS: {0:{}},  # users are numerical ids and a dictionary of their current wallet\n",
    "    PATS: [0],      # pats are currently simply numerical ids\n",
    "    OPATS: ()\n",
    "}"
   ]
  },
  {
   "cell_type": "markdown",
   "metadata": {},
   "source": [
    "#### Secondary Functions"
   ]
  },
  {
   "cell_type": "code",
   "execution_count": 8,
   "metadata": {},
   "outputs": [],
   "source": [
    "def clear_PAT_list(pats):\n",
    "    print(\"pats\", pats)\n",
    "    for i in range(0, len(pats)-1):\n",
    "        try:\n",
    "            if pats[i] == \"vote\":\n",
    "                del pats[i]\n",
    "\n",
    "            if pats[i] == \"reputation\":\n",
    "                del pats[i]\n",
    "\n",
    "            if pats[i] == \"governance\":\n",
    "                del pats[i]\n",
    "        except:\n",
    "            pass\n",
    "    print(\"cleaned pats: \", pats)\n",
    "    return pats"
   ]
  },
  {
   "cell_type": "code",
   "execution_count": 9,
   "metadata": {},
   "outputs": [],
   "source": [
    "def pat_proposal(users):\n",
    "    choice = None\n",
    "    p = users[PATS].copy()\n",
    "    op = users[OPATS]\n",
    "    ch_list_1 = clear_PAT_list(p)\n",
    "\n",
    "    if fixed_OPAT_sugestion:\n",
    "        if users[TIMESTEP] % 5 != 0:\n",
    "            pass\n",
    "        else:\n",
    "            choice = users[TIMESTEP]\n",
    "    else:\n",
    "        if len(op) > 0 and op[0] != None:\n",
    "            if ch_list_1 != None:\n",
    "                if len(ch_list_1) > 0:\n",
    "                    ch_list = set(ch_list_1) - set(list(op))\n",
    "                    choice = random.choice(list(ch_list))\n",
    "            else:\n",
    "                choice = None\n",
    "        else:\n",
    "            choice = random.choice(p)\n",
    "    return choice\n"
   ]
  },
  {
   "cell_type": "code",
   "execution_count": 10,
   "metadata": {},
   "outputs": [],
   "source": [
    "def vote_result(users):\n",
    "    yes = 0\n",
    "    no = 0\n",
    "    for u in range(0, len(users)):\n",
    "        if 'vote' in users[u]:\n",
    "            if users[u].get(\"vote\") == 0:\n",
    "                no += 1\n",
    "            if users[u].get(\"vote\") == 1:\n",
    "                yes += 1\n",
    "        else:\n",
    "            pass\n",
    "    if no == 0 and yes == 0 or no == yes:\n",
    "        vote = None\n",
    "    elif no > yes:\n",
    "        vote = False\n",
    "    elif no < yes:\n",
    "        vote = True\n",
    "    return vote"
   ]
  },
  {
   "cell_type": "code",
   "execution_count": 11,
   "metadata": {},
   "outputs": [],
   "source": [
    "def distribute_tokens(users, pats, opats, gain, extra_gain):\n",
    "    p = pats[3:]\n",
    "    # at most all the PATs of a person get a token\n",
    "    for u in users:\n",
    "        # for each pat in a list of paths of random length and random values\n",
    "        for pat in random.sample(p, random.randint(0, len(p))):\n",
    "            gain[(u, pat)] = 1\n",
    "        if opats != None:\n",
    "            for opa in range(0, len(opats)):\n",
    "                gain[(u, opats[opa])] = 1\n",
    "    return gain\n"
   ]
  },
  {
   "cell_type": "code",
   "execution_count": 12,
   "metadata": {},
   "outputs": [],
   "source": [
    "def get_rep_token(wallet, gain, n):\n",
    "    if 'reputation' in wallet:\n",
    "        wallet[\"reputation\"] = wallet.get(\"reputation\") + n * gain\n",
    "    else :\n",
    "        d = {\"reputation\": n}\n",
    "        wallet.update(d)\n",
    "    return wallet\n"
   ]
  },
  {
   "cell_type": "code",
   "execution_count": 13,
   "metadata": {},
   "outputs": [],
   "source": [
    "def add_fixed_opat(timestep, opats):\n",
    "    if timestep % 5 != 0:\n",
    "        pass\n",
    "    else:\n",
    "        proposed_PAT_id = timestep\n",
    "        prop_pat = proposed_PAT_id\n",
    "        opats = opats + tuple([proposed_PAT_id])\n",
    "    return opats"
   ]
  },
  {
   "cell_type": "code",
   "execution_count": 14,
   "metadata": {},
   "outputs": [],
   "source": [
    "def evaluate_vote_add_opat(prop_id, vote, opats):\n",
    "    if vote == None or vote == False or prop_id == None:\n",
    "        pass\n",
    "    else:\n",
    "        opats = opats + tuple([prop_id])\n",
    "    if opats != None:\n",
    "        if has_duplicates(opats):\n",
    "            opats = get_rid_of_duplicates(opats)\n",
    "    return opats"
   ]
  },
  {
   "cell_type": "code",
   "execution_count": 15,
   "metadata": {},
   "outputs": [],
   "source": [
    "def has_duplicates(iterable):\n",
    "    l = list(iterable)\n",
    "    try:\n",
    "        return len(set(iterable)) != len(iterable)\n",
    "    except:\n",
    "        l = list(iterable)\n",
    "        return len(set(l)) != len(l)\n"
   ]
  },
  {
   "cell_type": "code",
   "execution_count": 16,
   "metadata": {},
   "outputs": [],
   "source": [
    "def get_rid_of_duplicates(opats):\n",
    "    l = list(opats)\n",
    "    cleaned_list = list(dict.fromkeys(l))\n",
    "    return tuple(cleaned_list)"
   ]
  },
  {
   "cell_type": "markdown",
   "metadata": {},
   "source": [
    "#### Main Functions - to update at every time step"
   ]
  },
  {
   "cell_type": "code",
   "execution_count": 17,
   "metadata": {},
   "outputs": [],
   "source": [
    "def create_users(params, step, sL, s):\n",
    "    next_user_id = len(s[USERS])\n",
    "    x = {ADD_USERS:[\n",
    "        (next_user_id, {}),\n",
    "    ]}\n",
    "    if next_user_id == 1:\n",
    "        u = s[USERS].copy()\n",
    "        d = {\"reputation\": 1}\n",
    "        u[0].update(d)\n",
    "    return x"
   ]
  },
  {
   "cell_type": "code",
   "execution_count": 18,
   "metadata": {},
   "outputs": [],
   "source": [
    "def create_pat(params, step, sL, s):\n",
    "    next_pat_id = len(s[PATS])\n",
    "    if next_pat_id >= 2:\n",
    "        next_pat_id = len(s[PATS]) - 3\n",
    "    x = {ADD_PATS:[next_pat_id,]}\n",
    "    return x"
   ]
  },
  {
   "cell_type": "code",
   "execution_count": 19,
   "metadata": {},
   "outputs": [],
   "source": [
    "def user_actions(params, step, sL, s):\n",
    "    gain = {}\n",
    "    gain_ext = {}\n",
    "    if community:\n",
    "        if s[TIMESTEP] <= setup.community_size_1:\n",
    "            pass\n",
    "        #if setup.community_size_2 > 0:\n",
    "        #    if s[TIMESTEP] > (setup.community_size_1 + setup.between_com) and s[TIMESTEP] <= (setup.community_size_1 + setup.between_com + setup.community_size_2):\n",
    "        #        pass\n",
    "        #    else:\n",
    "        #distribute_tokens(s[USERS], s[PATS], s[OPATS], gain, gain_ext)\n",
    "        else:\n",
    "            distribute_tokens(s[USERS], s[PATS], s[OPATS], gain, gain_ext)\n",
    "    else:\n",
    "        distribute_tokens(s[USERS], s[PATS], s[OPATS], gain, gain_ext)\n",
    "    return {WALLET_GAINS: gain}"
   ]
  },
  {
   "cell_type": "code",
   "execution_count": 20,
   "metadata": {},
   "outputs": [],
   "source": [
    "def user_vote(params, step, sL, s):\n",
    "    x = s[USERS].copy()\n",
    "    pat = pat_proposal(s)\n",
    "    for u in range(0, len(x)-1):\n",
    "        # ---------------F4-----fixed threshold or percentage\n",
    "        if 'reputation' in x[u] and x[u].get(\"reputation\") > reputation_threshold_for_voting:\n",
    "            if \"vote\" in x[u]:\n",
    "                v = random.randint(0, 1)\n",
    "                d = {\"vote\": v}\n",
    "                x[u].update(d)\n",
    "            else:\n",
    "                d = {\"vote\": 0}\n",
    "                x[u].update(d)\n",
    "\n",
    "    return ({'Vote':x, 'Proposed_pat':pat})\n"
   ]
  },
  {
   "cell_type": "markdown",
   "metadata": {},
   "source": [
    "#### Main Funstions - to update the variables at every time step"
   ]
  },
  {
   "cell_type": "code",
   "execution_count": 21,
   "metadata": {},
   "outputs": [],
   "source": [
    "def add_users(params, step, sL, s, _input):\n",
    "    x = s[USERS].copy()\n",
    "    for new_user_id, wallet in _input[ADD_USERS]:\n",
    "        x[new_user_id] = wallet\n",
    "    return (USERS, x)"
   ]
  },
  {
   "cell_type": "code",
   "execution_count": 22,
   "metadata": {},
   "outputs": [],
   "source": [
    "def add_pat(params, step, sL, s, _input):\n",
    "    x = s[PATS].copy()\n",
    "    if len(x) <=2:\n",
    "        initial = x\n",
    "        spec = ['vote', 'reputation', 'governance']\n",
    "        x = spec + initial\n",
    "    x.extend(_input[ADD_PATS])\n",
    "    #if setup.rep_PAT_owner:\n",
    "    # ---------------F3-------------------------------------\n",
    "    #add activity token to the user who comes up with the added token     - PAT_owner\n",
    "        #u = s[USERS].copy()\n",
    "        #matching_user = _input[ADD_PATS][0]\n",
    "        #x = get_rep_token(u[user], 1, 1)\n",
    "        #if u[matching_user].get(\"reputation\", 0) == 0:\n",
    "        #    d = {\"reputation\": 1}\n",
    "        #    u[matching_user].update(d)\n",
    "        #else:\n",
    "        #    u[matching_user][\"reputation\"] = u[matching_user].get(\"reputation\") + 1\n",
    "    return (PATS, x)\n"
   ]
  },
  {
   "cell_type": "code",
   "execution_count": 23,
   "metadata": {},
   "outputs": [],
   "source": [
    "def update_user_wallets(params, step, sL, s, _input):\n",
    "    x = s[USERS].copy()\n",
    "    changes = _input[WALLET_GAINS]\n",
    "    for (user, pat), gain in changes.items():\n",
    "        #add the token itself\n",
    "        x[user][pat] = x[user].get(pat, 0) + gain\n",
    "        if rep_token_claim:\n",
    "            if rep_token_proof:\n",
    "                x[user] = get_rep_token(x[user], gain, 1)\n",
    "                x[user] = get_rep_token(x[user], gain, 1)\n",
    "            else:\n",
    "                x[user] = get_rep_token(x[user], gain, 1)\n",
    "        if rep_PAT_creator:\n",
    "            x[user] = get_rep_token(x[user], gain, 1)\n",
    "    return (USERS, x)"
   ]
  },
  {
   "cell_type": "code",
   "execution_count": 24,
   "metadata": {},
   "outputs": [],
   "source": [
    "def opats(params, step, sL, s, _input):\n",
    "    result = vote_result(_input[\"Vote\"])\n",
    "    proposed_PAT_id = None\n",
    "    updated_opats = s[OPATS]\n",
    "    if random_OPATs or fixed_OPAT_sugestion:\n",
    "        proposed_PAT_id = _input[\"Proposed_pat\"]\n",
    "        updated_opats = evaluate_vote_add_opat(proposed_PAT_id, result, updated_opats)\n",
    "    if fixed_OPATs:\n",
    "        updated_opats = add_fixed_opat(s[TIMESTEP], s[OPATS])\n",
    "    return (OPATS, updated_opats)\n"
   ]
  },
  {
   "cell_type": "code",
   "execution_count": 25,
   "metadata": {},
   "outputs": [],
   "source": [
    "if TCR:\n",
    "    partial_state_update_blocks = [\n",
    "        {\n",
    "            'policies': {\n",
    "                'create_users': create_users,\n",
    "            },\n",
    "            'variables': {\n",
    "                USERS: add_users,\n",
    "            }\n",
    "        },\n",
    "\n",
    "        {\n",
    "            'policies': {\n",
    "                'create_pat': create_pat,\n",
    "            },\n",
    "            'variables': {\n",
    "                PATS: add_pat,\n",
    "            }\n",
    "        },\n",
    "\n",
    "        {\n",
    "            'policies': {\n",
    "                'user_actions': user_actions,\n",
    "            },\n",
    "            'variables': {\n",
    "                USERS: update_user_wallets,\n",
    "            }\n",
    "        },\n",
    "        {\n",
    "            'policies': {\n",
    "                'user_vote': user_vote,\n",
    "            },\n",
    "            'variables': {\n",
    "                OPATS: opats,\n",
    "            }\n",
    "        },\n",
    "    ]\n",
    "else:\n",
    "    partial_state_update_blocks = [\n",
    "        {\n",
    "            'policies': {\n",
    "                'create_users': create_users,\n",
    "            },\n",
    "            'variables': {\n",
    "                USERS: add_users,\n",
    "            }\n",
    "        },\n",
    "\n",
    "        {\n",
    "            'policies': {\n",
    "                'create_pat': create_pat,\n",
    "            },\n",
    "            'variables': {\n",
    "                PATS: add_pat,\n",
    "            }\n",
    "        },\n",
    "\n",
    "        {\n",
    "            'policies': {\n",
    "                'user_actions': user_actions,\n",
    "            },\n",
    "            'variables': {\n",
    "                USERS: update_user_wallets,\n",
    "            }\n",
    "        },\n",
    "    ]"
   ]
  },
  {
   "cell_type": "code",
   "execution_count": 26,
   "metadata": {},
   "outputs": [
    {
     "name": "stdout",
     "output_type": "stream",
     "text": [
      "\n",
      "                            __________   ____ \n",
      "          ________ __ _____/ ____/   |  / __ \\\n",
      "         / ___/ __` / __  / /   / /| | / / / /\n",
      "        / /__/ /_/ / /_/ / /___/ ___ |/ /_/ / \n",
      "        \\___/\\__,_/\\__,_/\\____/_/  |_/_____/  \n",
      "        by BlockScience\n",
      "        \n",
      "Execution Mode: single_proc: [<cadCAD.configuration.Configuration object at 0x0000024FBD9DC828>]\n",
      "Configurations: [<cadCAD.configuration.Configuration object at 0x0000024FBD9DC828>]\n",
      "pats ['vote', 'reputation', 'governance', 0, 1]\n",
      "cleaned pats:  [0, 1]\n",
      "pats ['vote', 'reputation', 'governance', 0, 1, 2]\n",
      "cleaned pats:  [0, 1, 2]\n",
      "pats ['vote', 'reputation', 'governance', 0, 1, 2, 3]\n",
      "cleaned pats:  [0, 1, 2, 3]\n",
      "pats ['vote', 'reputation', 'governance', 0, 1, 2, 3, 4]\n",
      "cleaned pats:  [0, 1, 2, 3, 4]\n",
      "pats ['vote', 'reputation', 'governance', 0, 1, 2, 3, 4, 5]\n",
      "cleaned pats:  [0, 1, 2, 3, 4, 5]\n",
      "pats ['vote', 'reputation', 'governance', 0, 1, 2, 3, 4, 5, 6]\n",
      "cleaned pats:  [0, 1, 2, 3, 4, 5, 6]\n",
      "pats ['vote', 'reputation', 'governance', 0, 1, 2, 3, 4, 5, 6, 7]\n",
      "cleaned pats:  [0, 1, 2, 3, 4, 5, 6, 7]\n",
      "pats ['vote', 'reputation', 'governance', 0, 1, 2, 3, 4, 5, 6, 7, 8]\n",
      "cleaned pats:  [0, 1, 2, 3, 4, 5, 6, 7, 8]\n",
      "pats ['vote', 'reputation', 'governance', 0, 1, 2, 3, 4, 5, 6, 7, 8, 9]\n",
      "cleaned pats:  [0, 1, 2, 3, 4, 5, 6, 7, 8, 9]\n",
      "pats ['vote', 'reputation', 'governance', 0, 1, 2, 3, 4, 5, 6, 7, 8, 9, 10]\n",
      "cleaned pats:  [0, 1, 2, 3, 4, 5, 6, 7, 8, 9, 10]\n",
      "pats ['vote', 'reputation', 'governance', 0, 1, 2, 3, 4, 5, 6, 7, 8, 9, 10, 11]\n",
      "cleaned pats:  [0, 1, 2, 3, 4, 5, 6, 7, 8, 9, 10, 11]\n",
      "pats ['vote', 'reputation', 'governance', 0, 1, 2, 3, 4, 5, 6, 7, 8, 9, 10, 11, 12]\n",
      "cleaned pats:  [0, 1, 2, 3, 4, 5, 6, 7, 8, 9, 10, 11, 12]\n",
      "pats ['vote', 'reputation', 'governance', 0, 1, 2, 3, 4, 5, 6, 7, 8, 9, 10, 11, 12, 13]\n",
      "cleaned pats:  [0, 1, 2, 3, 4, 5, 6, 7, 8, 9, 10, 11, 12, 13]\n",
      "pats ['vote', 'reputation', 'governance', 0, 1, 2, 3, 4, 5, 6, 7, 8, 9, 10, 11, 12, 13, 14]\n",
      "cleaned pats:  [0, 1, 2, 3, 4, 5, 6, 7, 8, 9, 10, 11, 12, 13, 14]\n",
      "pats ['vote', 'reputation', 'governance', 0, 1, 2, 3, 4, 5, 6, 7, 8, 9, 10, 11, 12, 13, 14, 15]\n",
      "cleaned pats:  [0, 1, 2, 3, 4, 5, 6, 7, 8, 9, 10, 11, 12, 13, 14, 15]\n",
      "pats ['vote', 'reputation', 'governance', 0, 1, 2, 3, 4, 5, 6, 7, 8, 9, 10, 11, 12, 13, 14, 15, 16]\n",
      "cleaned pats:  [0, 1, 2, 3, 4, 5, 6, 7, 8, 9, 10, 11, 12, 13, 14, 15, 16]\n",
      "pats ['vote', 'reputation', 'governance', 0, 1, 2, 3, 4, 5, 6, 7, 8, 9, 10, 11, 12, 13, 14, 15, 16, 17]\n",
      "cleaned pats:  [0, 1, 2, 3, 4, 5, 6, 7, 8, 9, 10, 11, 12, 13, 14, 15, 16, 17]\n",
      "pats ['vote', 'reputation', 'governance', 0, 1, 2, 3, 4, 5, 6, 7, 8, 9, 10, 11, 12, 13, 14, 15, 16, 17, 18]\n",
      "cleaned pats:  [0, 1, 2, 3, 4, 5, 6, 7, 8, 9, 10, 11, 12, 13, 14, 15, 16, 17, 18]\n",
      "pats ['vote', 'reputation', 'governance', 0, 1, 2, 3, 4, 5, 6, 7, 8, 9, 10, 11, 12, 13, 14, 15, 16, 17, 18, 19]\n",
      "cleaned pats:  [0, 1, 2, 3, 4, 5, 6, 7, 8, 9, 10, 11, 12, 13, 14, 15, 16, 17, 18, 19]\n",
      "pats ['vote', 'reputation', 'governance', 0, 1, 2, 3, 4, 5, 6, 7, 8, 9, 10, 11, 12, 13, 14, 15, 16, 17, 18, 19, 20]\n",
      "cleaned pats:  [0, 1, 2, 3, 4, 5, 6, 7, 8, 9, 10, 11, 12, 13, 14, 15, 16, 17, 18, 19, 20]\n",
      "pats ['vote', 'reputation', 'governance', 0, 1, 2, 3, 4, 5, 6, 7, 8, 9, 10, 11, 12, 13, 14, 15, 16, 17, 18, 19, 20, 21]\n",
      "cleaned pats:  [0, 1, 2, 3, 4, 5, 6, 7, 8, 9, 10, 11, 12, 13, 14, 15, 16, 17, 18, 19, 20, 21]\n",
      "pats ['vote', 'reputation', 'governance', 0, 1, 2, 3, 4, 5, 6, 7, 8, 9, 10, 11, 12, 13, 14, 15, 16, 17, 18, 19, 20, 21, 22]\n",
      "cleaned pats:  [0, 1, 2, 3, 4, 5, 6, 7, 8, 9, 10, 11, 12, 13, 14, 15, 16, 17, 18, 19, 20, 21, 22]\n",
      "pats ['vote', 'reputation', 'governance', 0, 1, 2, 3, 4, 5, 6, 7, 8, 9, 10, 11, 12, 13, 14, 15, 16, 17, 18, 19, 20, 21, 22, 23]\n",
      "cleaned pats:  [0, 1, 2, 3, 4, 5, 6, 7, 8, 9, 10, 11, 12, 13, 14, 15, 16, 17, 18, 19, 20, 21, 22, 23]\n",
      "pats ['vote', 'reputation', 'governance', 0, 1, 2, 3, 4, 5, 6, 7, 8, 9, 10, 11, 12, 13, 14, 15, 16, 17, 18, 19, 20, 21, 22, 23, 24]\n",
      "cleaned pats:  [0, 1, 2, 3, 4, 5, 6, 7, 8, 9, 10, 11, 12, 13, 14, 15, 16, 17, 18, 19, 20, 21, 22, 23, 24]\n",
      "pats ['vote', 'reputation', 'governance', 0, 1, 2, 3, 4, 5, 6, 7, 8, 9, 10, 11, 12, 13, 14, 15, 16, 17, 18, 19, 20, 21, 22, 23, 24, 25]\n",
      "cleaned pats:  [0, 1, 2, 3, 4, 5, 6, 7, 8, 9, 10, 11, 12, 13, 14, 15, 16, 17, 18, 19, 20, 21, 22, 23, 24, 25]\n",
      "pats ['vote', 'reputation', 'governance', 0, 1, 2, 3, 4, 5, 6, 7, 8, 9, 10, 11, 12, 13, 14, 15, 16, 17, 18, 19, 20, 21, 22, 23, 24, 25, 26]\n",
      "cleaned pats:  [0, 1, 2, 3, 4, 5, 6, 7, 8, 9, 10, 11, 12, 13, 14, 15, 16, 17, 18, 19, 20, 21, 22, 23, 24, 25, 26]\n",
      "pats ['vote', 'reputation', 'governance', 0, 1, 2, 3, 4, 5, 6, 7, 8, 9, 10, 11, 12, 13, 14, 15, 16, 17, 18, 19, 20, 21, 22, 23, 24, 25, 26, 27]\n",
      "cleaned pats:  [0, 1, 2, 3, 4, 5, 6, 7, 8, 9, 10, 11, 12, 13, 14, 15, 16, 17, 18, 19, 20, 21, 22, 23, 24, 25, 26, 27]\n",
      "pats ['vote', 'reputation', 'governance', 0, 1, 2, 3, 4, 5, 6, 7, 8, 9, 10, 11, 12, 13, 14, 15, 16, 17, 18, 19, 20, 21, 22, 23, 24, 25, 26, 27, 28]\n",
      "cleaned pats:  [0, 1, 2, 3, 4, 5, 6, 7, 8, 9, 10, 11, 12, 13, 14, 15, 16, 17, 18, 19, 20, 21, 22, 23, 24, 25, 26, 27, 28]\n",
      "pats ['vote', 'reputation', 'governance', 0, 1, 2, 3, 4, 5, 6, 7, 8, 9, 10, 11, 12, 13, 14, 15, 16, 17, 18, 19, 20, 21, 22, 23, 24, 25, 26, 27, 28, 29]\n",
      "cleaned pats:  [0, 1, 2, 3, 4, 5, 6, 7, 8, 9, 10, 11, 12, 13, 14, 15, 16, 17, 18, 19, 20, 21, 22, 23, 24, 25, 26, 27, 28, 29]\n",
      "pats ['vote', 'reputation', 'governance', 0, 1, 2, 3, 4, 5, 6, 7, 8, 9, 10, 11, 12, 13, 14, 15, 16, 17, 18, 19, 20, 21, 22, 23, 24, 25, 26, 27, 28, 29, 30]\n",
      "cleaned pats:  [0, 1, 2, 3, 4, 5, 6, 7, 8, 9, 10, 11, 12, 13, 14, 15, 16, 17, 18, 19, 20, 21, 22, 23, 24, 25, 26, 27, 28, 29, 30]\n",
      "pats ['vote', 'reputation', 'governance', 0, 1, 2, 3, 4, 5, 6, 7, 8, 9, 10, 11, 12, 13, 14, 15, 16, 17, 18, 19, 20, 21, 22, 23, 24, 25, 26, 27, 28, 29, 30, 31]\n",
      "cleaned pats:  [0, 1, 2, 3, 4, 5, 6, 7, 8, 9, 10, 11, 12, 13, 14, 15, 16, 17, 18, 19, 20, 21, 22, 23, 24, 25, 26, 27, 28, 29, 30, 31]\n",
      "pats ['vote', 'reputation', 'governance', 0, 1, 2, 3, 4, 5, 6, 7, 8, 9, 10, 11, 12, 13, 14, 15, 16, 17, 18, 19, 20, 21, 22, 23, 24, 25, 26, 27, 28, 29, 30, 31, 32]\n",
      "cleaned pats:  [0, 1, 2, 3, 4, 5, 6, 7, 8, 9, 10, 11, 12, 13, 14, 15, 16, 17, 18, 19, 20, 21, 22, 23, 24, 25, 26, 27, 28, 29, 30, 31, 32]\n",
      "pats ['vote', 'reputation', 'governance', 0, 1, 2, 3, 4, 5, 6, 7, 8, 9, 10, 11, 12, 13, 14, 15, 16, 17, 18, 19, 20, 21, 22, 23, 24, 25, 26, 27, 28, 29, 30, 31, 32, 33]\n",
      "cleaned pats:  [0, 1, 2, 3, 4, 5, 6, 7, 8, 9, 10, 11, 12, 13, 14, 15, 16, 17, 18, 19, 20, 21, 22, 23, 24, 25, 26, 27, 28, 29, 30, 31, 32, 33]\n",
      "pats ['vote', 'reputation', 'governance', 0, 1, 2, 3, 4, 5, 6, 7, 8, 9, 10, 11, 12, 13, 14, 15, 16, 17, 18, 19, 20, 21, 22, 23, 24, 25, 26, 27, 28, 29, 30, 31, 32, 33, 34]\n",
      "cleaned pats:  [0, 1, 2, 3, 4, 5, 6, 7, 8, 9, 10, 11, 12, 13, 14, 15, 16, 17, 18, 19, 20, 21, 22, 23, 24, 25, 26, 27, 28, 29, 30, 31, 32, 33, 34]\n",
      "pats ['vote', 'reputation', 'governance', 0, 1, 2, 3, 4, 5, 6, 7, 8, 9, 10, 11, 12, 13, 14, 15, 16, 17, 18, 19, 20, 21, 22, 23, 24, 25, 26, 27, 28, 29, 30, 31, 32, 33, 34, 35]\n",
      "cleaned pats:  [0, 1, 2, 3, 4, 5, 6, 7, 8, 9, 10, 11, 12, 13, 14, 15, 16, 17, 18, 19, 20, 21, 22, 23, 24, 25, 26, 27, 28, 29, 30, 31, 32, 33, 34, 35]\n",
      "pats ['vote', 'reputation', 'governance', 0, 1, 2, 3, 4, 5, 6, 7, 8, 9, 10, 11, 12, 13, 14, 15, 16, 17, 18, 19, 20, 21, 22, 23, 24, 25, 26, 27, 28, 29, 30, 31, 32, 33, 34, 35, 36]\n",
      "cleaned pats:  [0, 1, 2, 3, 4, 5, 6, 7, 8, 9, 10, 11, 12, 13, 14, 15, 16, 17, 18, 19, 20, 21, 22, 23, 24, 25, 26, 27, 28, 29, 30, 31, 32, 33, 34, 35, 36]\n",
      "pats ['vote', 'reputation', 'governance', 0, 1, 2, 3, 4, 5, 6, 7, 8, 9, 10, 11, 12, 13, 14, 15, 16, 17, 18, 19, 20, 21, 22, 23, 24, 25, 26, 27, 28, 29, 30, 31, 32, 33, 34, 35, 36, 37]\n",
      "cleaned pats:  [0, 1, 2, 3, 4, 5, 6, 7, 8, 9, 10, 11, 12, 13, 14, 15, 16, 17, 18, 19, 20, 21, 22, 23, 24, 25, 26, 27, 28, 29, 30, 31, 32, 33, 34, 35, 36, 37]\n",
      "pats ['vote', 'reputation', 'governance', 0, 1, 2, 3, 4, 5, 6, 7, 8, 9, 10, 11, 12, 13, 14, 15, 16, 17, 18, 19, 20, 21, 22, 23, 24, 25, 26, 27, 28, 29, 30, 31, 32, 33, 34, 35, 36, 37, 38]\n",
      "cleaned pats:  [0, 1, 2, 3, 4, 5, 6, 7, 8, 9, 10, 11, 12, 13, 14, 15, 16, 17, 18, 19, 20, 21, 22, 23, 24, 25, 26, 27, 28, 29, 30, 31, 32, 33, 34, 35, 36, 37, 38]\n",
      "pats ['vote', 'reputation', 'governance', 0, 1, 2, 3, 4, 5, 6, 7, 8, 9, 10, 11, 12, 13, 14, 15, 16, 17, 18, 19, 20, 21, 22, 23, 24, 25, 26, 27, 28, 29, 30, 31, 32, 33, 34, 35, 36, 37, 38, 39]\n",
      "cleaned pats:  [0, 1, 2, 3, 4, 5, 6, 7, 8, 9, 10, 11, 12, 13, 14, 15, 16, 17, 18, 19, 20, 21, 22, 23, 24, 25, 26, 27, 28, 29, 30, 31, 32, 33, 34, 35, 36, 37, 38, 39]\n",
      "pats ['vote', 'reputation', 'governance', 0, 1, 2, 3, 4, 5, 6, 7, 8, 9, 10, 11, 12, 13, 14, 15, 16, 17, 18, 19, 20, 21, 22, 23, 24, 25, 26, 27, 28, 29, 30, 31, 32, 33, 34, 35, 36, 37, 38, 39, 40]\n",
      "cleaned pats:  [0, 1, 2, 3, 4, 5, 6, 7, 8, 9, 10, 11, 12, 13, 14, 15, 16, 17, 18, 19, 20, 21, 22, 23, 24, 25, 26, 27, 28, 29, 30, 31, 32, 33, 34, 35, 36, 37, 38, 39, 40]\n",
      "pats ['vote', 'reputation', 'governance', 0, 1, 2, 3, 4, 5, 6, 7, 8, 9, 10, 11, 12, 13, 14, 15, 16, 17, 18, 19, 20, 21, 22, 23, 24, 25, 26, 27, 28, 29, 30, 31, 32, 33, 34, 35, 36, 37, 38, 39, 40, 41]\n",
      "cleaned pats:  [0, 1, 2, 3, 4, 5, 6, 7, 8, 9, 10, 11, 12, 13, 14, 15, 16, 17, 18, 19, 20, 21, 22, 23, 24, 25, 26, 27, 28, 29, 30, 31, 32, 33, 34, 35, 36, 37, 38, 39, 40, 41]\n",
      "pats ['vote', 'reputation', 'governance', 0, 1, 2, 3, 4, 5, 6, 7, 8, 9, 10, 11, 12, 13, 14, 15, 16, 17, 18, 19, 20, 21, 22, 23, 24, 25, 26, 27, 28, 29, 30, 31, 32, 33, 34, 35, 36, 37, 38, 39, 40, 41, 42]\n",
      "cleaned pats:  [0, 1, 2, 3, 4, 5, 6, 7, 8, 9, 10, 11, 12, 13, 14, 15, 16, 17, 18, 19, 20, 21, 22, 23, 24, 25, 26, 27, 28, 29, 30, 31, 32, 33, 34, 35, 36, 37, 38, 39, 40, 41, 42]\n",
      "pats ['vote', 'reputation', 'governance', 0, 1, 2, 3, 4, 5, 6, 7, 8, 9, 10, 11, 12, 13, 14, 15, 16, 17, 18, 19, 20, 21, 22, 23, 24, 25, 26, 27, 28, 29, 30, 31, 32, 33, 34, 35, 36, 37, 38, 39, 40, 41, 42, 43]\n",
      "cleaned pats:  [0, 1, 2, 3, 4, 5, 6, 7, 8, 9, 10, 11, 12, 13, 14, 15, 16, 17, 18, 19, 20, 21, 22, 23, 24, 25, 26, 27, 28, 29, 30, 31, 32, 33, 34, 35, 36, 37, 38, 39, 40, 41, 42, 43]\n"
     ]
    },
    {
     "name": "stdout",
     "output_type": "stream",
     "text": [
      "pats ['vote', 'reputation', 'governance', 0, 1, 2, 3, 4, 5, 6, 7, 8, 9, 10, 11, 12, 13, 14, 15, 16, 17, 18, 19, 20, 21, 22, 23, 24, 25, 26, 27, 28, 29, 30, 31, 32, 33, 34, 35, 36, 37, 38, 39, 40, 41, 42, 43, 44]\n",
      "cleaned pats:  [0, 1, 2, 3, 4, 5, 6, 7, 8, 9, 10, 11, 12, 13, 14, 15, 16, 17, 18, 19, 20, 21, 22, 23, 24, 25, 26, 27, 28, 29, 30, 31, 32, 33, 34, 35, 36, 37, 38, 39, 40, 41, 42, 43, 44]\n",
      "pats ['vote', 'reputation', 'governance', 0, 1, 2, 3, 4, 5, 6, 7, 8, 9, 10, 11, 12, 13, 14, 15, 16, 17, 18, 19, 20, 21, 22, 23, 24, 25, 26, 27, 28, 29, 30, 31, 32, 33, 34, 35, 36, 37, 38, 39, 40, 41, 42, 43, 44, 45]\n",
      "cleaned pats:  [0, 1, 2, 3, 4, 5, 6, 7, 8, 9, 10, 11, 12, 13, 14, 15, 16, 17, 18, 19, 20, 21, 22, 23, 24, 25, 26, 27, 28, 29, 30, 31, 32, 33, 34, 35, 36, 37, 38, 39, 40, 41, 42, 43, 44, 45]\n",
      "pats ['vote', 'reputation', 'governance', 0, 1, 2, 3, 4, 5, 6, 7, 8, 9, 10, 11, 12, 13, 14, 15, 16, 17, 18, 19, 20, 21, 22, 23, 24, 25, 26, 27, 28, 29, 30, 31, 32, 33, 34, 35, 36, 37, 38, 39, 40, 41, 42, 43, 44, 45, 46]\n",
      "cleaned pats:  [0, 1, 2, 3, 4, 5, 6, 7, 8, 9, 10, 11, 12, 13, 14, 15, 16, 17, 18, 19, 20, 21, 22, 23, 24, 25, 26, 27, 28, 29, 30, 31, 32, 33, 34, 35, 36, 37, 38, 39, 40, 41, 42, 43, 44, 45, 46]\n",
      "pats ['vote', 'reputation', 'governance', 0, 1, 2, 3, 4, 5, 6, 7, 8, 9, 10, 11, 12, 13, 14, 15, 16, 17, 18, 19, 20, 21, 22, 23, 24, 25, 26, 27, 28, 29, 30, 31, 32, 33, 34, 35, 36, 37, 38, 39, 40, 41, 42, 43, 44, 45, 46, 47]\n",
      "cleaned pats:  [0, 1, 2, 3, 4, 5, 6, 7, 8, 9, 10, 11, 12, 13, 14, 15, 16, 17, 18, 19, 20, 21, 22, 23, 24, 25, 26, 27, 28, 29, 30, 31, 32, 33, 34, 35, 36, 37, 38, 39, 40, 41, 42, 43, 44, 45, 46, 47]\n",
      "pats ['vote', 'reputation', 'governance', 0, 1, 2, 3, 4, 5, 6, 7, 8, 9, 10, 11, 12, 13, 14, 15, 16, 17, 18, 19, 20, 21, 22, 23, 24, 25, 26, 27, 28, 29, 30, 31, 32, 33, 34, 35, 36, 37, 38, 39, 40, 41, 42, 43, 44, 45, 46, 47, 48]\n",
      "cleaned pats:  [0, 1, 2, 3, 4, 5, 6, 7, 8, 9, 10, 11, 12, 13, 14, 15, 16, 17, 18, 19, 20, 21, 22, 23, 24, 25, 26, 27, 28, 29, 30, 31, 32, 33, 34, 35, 36, 37, 38, 39, 40, 41, 42, 43, 44, 45, 46, 47, 48]\n",
      "pats ['vote', 'reputation', 'governance', 0, 1, 2, 3, 4, 5, 6, 7, 8, 9, 10, 11, 12, 13, 14, 15, 16, 17, 18, 19, 20, 21, 22, 23, 24, 25, 26, 27, 28, 29, 30, 31, 32, 33, 34, 35, 36, 37, 38, 39, 40, 41, 42, 43, 44, 45, 46, 47, 48, 49]\n",
      "cleaned pats:  [0, 1, 2, 3, 4, 5, 6, 7, 8, 9, 10, 11, 12, 13, 14, 15, 16, 17, 18, 19, 20, 21, 22, 23, 24, 25, 26, 27, 28, 29, 30, 31, 32, 33, 34, 35, 36, 37, 38, 39, 40, 41, 42, 43, 44, 45, 46, 47, 48, 49]\n",
      "pats ['vote', 'reputation', 'governance', 0, 1, 2, 3, 4, 5, 6, 7, 8, 9, 10, 11, 12, 13, 14, 15, 16, 17, 18, 19, 20, 21, 22, 23, 24, 25, 26, 27, 28, 29, 30, 31, 32, 33, 34, 35, 36, 37, 38, 39, 40, 41, 42, 43, 44, 45, 46, 47, 48, 49, 50]\n",
      "cleaned pats:  [0, 1, 2, 3, 4, 5, 6, 7, 8, 9, 10, 11, 12, 13, 14, 15, 16, 17, 18, 19, 20, 21, 22, 23, 24, 25, 26, 27, 28, 29, 30, 31, 32, 33, 34, 35, 36, 37, 38, 39, 40, 41, 42, 43, 44, 45, 46, 47, 48, 49, 50]\n"
     ]
    }
   ],
   "source": [
    "config = Configuration(initial_state=initial_conditions,                         #dict containing variable names and initial values\n",
    "                       partial_state_update_blocks=partial_state_update_blocks,  #dict containing state update functions\n",
    "                       sim_config=simulation_parameters                          #dict containing simulation parameters\n",
    "                      )\n",
    "\n",
    "exec_mode = ExecutionMode()\n",
    "exec_context = ExecutionContext(exec_mode.single_proc)\n",
    "executor = Executor(exec_context, [config])                                       #Pass the configuration object inside an array\n",
    "raw_result, tensor = executor.execute()\n"
   ]
  },
  {
   "cell_type": "markdown",
   "metadata": {},
   "source": [
    "#### Name construction "
   ]
  },
  {
   "cell_type": "code",
   "execution_count": 27,
   "metadata": {},
   "outputs": [],
   "source": [
    "if TCR:\n",
    "    name = \"tcr_\"\n",
    "else:\n",
    "    name = \"s_\"\n",
    "name = name + \"t\" + str(time_steps) + \"_c\"\n",
    "if community and community_size_1:\n",
    "    if community_size_2:\n",
    "        name = name + \"11_\"\n",
    "    name = name + \"1_\"\n",
    "else:\n",
    "    name = name + \"0_\"\n",
    "name = name + \"vt\" + str(reputation_threshold_for_voting)\n",
    "if random_OPATs:\n",
    "    name = name + \"_rOPATs\"\n",
    "if fixed_OPATs:\n",
    "    name = name + \"_fOPATs\"\n",
    "if fixed_OPAT_sugestion:\n",
    "    name = name + \"_fsOPATs\""
   ]
  },
  {
   "cell_type": "code",
   "execution_count": 28,
   "metadata": {},
   "outputs": [],
   "source": [
    "#### Data analysis"
   ]
  },
  {
   "cell_type": "code",
   "execution_count": 29,
   "metadata": {},
   "outputs": [],
   "source": [
    "df = pd.DataFrame(raw_result)\n",
    "t_step = raw_result[len(raw_result)-1][\"timestep\"]"
   ]
  },
  {
   "cell_type": "code",
   "execution_count": 30,
   "metadata": {},
   "outputs": [],
   "source": [
    "def clean_PATS_of_special_tokens(s):\n",
    "    if s.get(\"reputation\", 0) != 0 or s.get(\"reputation\") == 0:\n",
    "        s.pop(\"reputation\")\n",
    "\n",
    "    if s.get(\"activity\", 0) != 0 or s.get(\"activity\") == 0:\n",
    "        s.pop(\"activity\")\n",
    "\n",
    "    if s.get(\"vote\", 0) != 0 or s.get(\"vote\") == 0:\n",
    "        s.pop(\"vote\")\n",
    "\n",
    "    if s.get(\"governance\", 0) != 0 or s.get(\"governance\") == 0:\n",
    "        s.pop(\"governance\")\n",
    "    return s"
   ]
  },
  {
   "cell_type": "code",
   "execution_count": 31,
   "metadata": {},
   "outputs": [],
   "source": [
    "def calculate_total_tokens_per_pat(state):\n",
    "    distribution = {pat:0 for pat in state[PATS]}\n",
    "    for user_wallet in state[USERS].values():\n",
    "        for pat, number_of_tokens in user_wallet.items():\n",
    "            distribution[pat] += number_of_tokens\n",
    "    dist = clean_PATS_of_special_tokens(distribution)\n",
    "    return dist"
   ]
  },
  {
   "cell_type": "code",
   "execution_count": 32,
   "metadata": {},
   "outputs": [
    {
     "data": {
      "image/png": "[encoded data removed]",
      "text/plain": [
       "<Figure size 432x288 with 1 Axes>"
      ]
     },
     "metadata": {
      "needs_background": "light"
     },
     "output_type": "display_data"
    }
   ],
   "source": [
    "plt1 = pl.scatter(calculate_total_tokens_per_pat(raw_result[-1]).keys(),\n",
    "           calculate_total_tokens_per_pat(raw_result[-1]).values())\n",
    "\n",
    "pl.xticks(np.arange(0, t_step, 5))\n",
    "pl.title(name)\n",
    "pl.xlabel(\"PATs\")\n",
    "pl.ylabel(\"nr. of tokens\")\n",
    "pl.savefig(name + \".png\")\n",
    "pl.show()"
   ]
  }
 ],
 "metadata": {
  "kernelspec": {
   "display_name": "Python 3",
   "language": "python",
   "name": "python3"
  },
  "language_info": {
   "codemirror_mode": {
    "name": "ipython",
    "version": 3
   },
   "file_extension": ".py",
   "mimetype": "text/x-python",
   "name": "python",
   "nbconvert_exporter": "python",
   "pygments_lexer": "ipython3",
   "version": "3.6.5"
  }
 },
 "nbformat": 4,
 "nbformat_minor": 2
}
