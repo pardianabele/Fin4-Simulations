{
 "cells": [
  {
   "cell_type": "code",
   "execution_count": null,
   "metadata": {},
   "outputs": [],
   "source": [
    "%matplotlib inline"
   ]
  },
  {
   "cell_type": "code",
   "execution_count": null,
   "metadata": {},
   "outputs": [],
   "source": [
    "import random\n",
    "from cadCAD.configuration import Configuration\n",
    "from cadCAD.engine import ExecutionMode, ExecutionContext, Executor"
   ]
  },
  {
   "cell_type": "code",
   "execution_count": 2,
   "metadata": {},
   "outputs": [],
   "source": [
    "# general setup\n",
    "time_steps = 50\n",
    "\n",
    "#population settings\n",
    "community = False\n",
    "community_size_1 = 35\n",
    "community_size_2 = 0\n",
    "between_com = 0\n",
    "\n",
    "#TCR settings\n",
    "TCR = True\n",
    "reputation_threshold_for_voting = 500\n",
    "voting_rate = False\n",
    "voting_rate_value = 20 #%\n",
    "\n",
    "#reputation allocation\n",
    "rep_token_claim = True\n",
    "rep_token_proof = True\n",
    "rep_PAT_creator = False\n",
    "#rep_PAT_owner = True\n",
    "\n",
    "#random OPATs\n",
    "random_OPATs = True\n",
    "fixed_OPATs = False\n",
    "fixed_OPAT_sugestion = False"
   ]
  },
  {
   "cell_type": "code",
   "execution_count": 3,
   "metadata": {},
   "outputs": [],
   "source": [
    "simulation_parameters = {\n",
    "    'T': range(time_steps),\n",
    "    'N': 1,\n",
    "    'M': {}\n",
    "}"
   ]
  },
  {
   "cell_type": "code",
   "execution_count": 4,
   "metadata": {},
   "outputs": [],
   "source": [
    "def get_update_name(variable_name):\n",
    "    return \"add_\" + variable_name"
   ]
  },
  {
   "cell_type": "code",
   "execution_count": null,
   "metadata": {},
   "outputs": [],
   "source": [
    "#general constants\n",
    "TIMESTEP = 'timestep' # access to current timestep with s[TIMESTEP]\n",
    "USERS = \"users\"\n",
    "PATS = \"pats\"\n",
    "OPATS = \"opats\"\n",
    "WALLET_GAINS = \"wallet_gains\"\n",
    "ADD_USERS = get_update_name(USERS)\n",
    "ADD_PATS = get_update_name(PATS)\n",
    "\n",
    "proposed_PAT_id = [5, 10, 15, 20, 25, 30, 35, 40]\n"
   ]
  },
  {
   "cell_type": "code",
   "execution_count": null,
   "metadata": {},
   "outputs": [],
   "source": [
    "initial_conditions = {\n",
    "    USERS: {0:{}},  # users are numerical ids and a dictionary of their current wallet\n",
    "    PATS: [0],      # pats are currently simply numerical ids\n",
    "    OPATS: ()\n",
    "}"
   ]
  },
  {
   "cell_type": "code",
   "execution_count": null,
   "metadata": {},
   "outputs": [],
   "source": [
    "#Functions\n",
    "def clear_PAT_list(pats):\n",
    "    print(\"pats\", pats)\n",
    "    for i in range(0, len(pats)-1):\n",
    "        try:\n",
    "            if pats[i] == \"vote\":\n",
    "                del pats[i]\n",
    "\n",
    "            if pats[i] == \"reputation\":\n",
    "                del pats[i]\n",
    "\n",
    "            if pats[i] == \"governance\":\n",
    "                del pats[i]\n",
    "        except:\n",
    "            pass\n",
    "    print(\"cleaned pats: \", pats)\n",
    "    return pats"
   ]
  },
  {
   "cell_type": "code",
   "execution_count": null,
   "metadata": {},
   "outputs": [],
   "source": [
    "def pat_proposal(users):\n",
    "    choice = None\n",
    "    p = users[PATS].copy()\n",
    "    op = users[OPATS]\n",
    "    ch_list_1 = clear_PAT_list(p)\n",
    "    print(\"ch_list_1\", ch_list_1)\n",
    "    print(\"op\", op)\n",
    "\n",
    "    if setup.fixed_OPAT_sugestion:\n",
    "        #print(\"I should be here\")\n",
    "        if users[TIMESTEP] % 5 != 0:\n",
    "            pass\n",
    "        else:\n",
    "            choice = users[TIMESTEP]\n",
    "            print(\"choice: \", choice)\n",
    "    else:\n",
    "        #print(\"I sould not be here\")\n",
    "        if len(op) > 0 and op[0] != None:\n",
    "            if ch_list_1 != None:\n",
    "                if len(ch_list_1) > 0:\n",
    "                    ch_list = set(ch_list_1) - set(list(op))\n",
    "                    print (\"diff list\", ch_list)\n",
    "                    choice = random.choice(list(ch_list))\n",
    "            else:\n",
    "                choice = None\n",
    "        else:\n",
    "            choice = random.choice(p)\n",
    "            print(\"choice: \", choice)\n",
    "\n",
    "    return choice\n"
   ]
  },
  {
   "cell_type": "code",
   "execution_count": null,
   "metadata": {},
   "outputs": [],
   "source": [
    "def vote_result(users):\n",
    "    yes = 0\n",
    "    no = 0\n",
    "    for u in range(0, len(users)):\n",
    "        #print(\"user id outside if statement\", u)\n",
    "        #print(\"user outside if statement\", users[u])\n",
    "        if 'vote' in users[u]:\n",
    "            #print(\"user id\", u)\n",
    "            #print(\"user\", users[u])\n",
    "            #print(\"user's vote\", users[u].get(\"vote\"))\n",
    "            if users[u].get(\"vote\") == 0:\n",
    "                no += 1\n",
    "            if users[u].get(\"vote\") == 1:\n",
    "                yes += 1\n",
    "        else:\n",
    "            #print(\"I am passing on:\", u)\n",
    "            pass\n",
    "    print(\"yes:\", yes)\n",
    "    print(\"no:\", no)\n",
    "    if no == 0 and yes == 0 or no == yes:\n",
    "        vote = None\n",
    "    elif no > yes:\n",
    "        vote = False\n",
    "    elif no < yes:\n",
    "        vote = True\n",
    "    print(\"vote:\", vote)\n",
    "    return vote"
   ]
  }
 ],
 "metadata": {
  "kernelspec": {
   "display_name": "Python 3",
   "language": "python",
   "name": "python3"
  },
  "language_info": {
   "codemirror_mode": {
    "name": "ipython",
    "version": 3
   },
   "file_extension": ".py",
   "mimetype": "text/x-python",
   "name": "python",
   "nbconvert_exporter": "python",
   "pygments_lexer": "ipython3",
   "version": "3.6.5"
  }
 },
 "nbformat": 4,
 "nbformat_minor": 2
}
